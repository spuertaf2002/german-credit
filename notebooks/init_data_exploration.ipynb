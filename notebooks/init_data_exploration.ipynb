{
 "cells": [
  {
   "cell_type": "code",
   "execution_count": 1,
   "metadata": {},
   "outputs": [],
   "source": [
    "import numpy as np\n",
    "import pandas as pd\n",
    "import pyarrow as pa"
   ]
  },
  {
   "cell_type": "code",
   "execution_count": 2,
   "metadata": {},
   "outputs": [],
   "source": [
    "df = pd.read_csv(r\"..\\data\\raw_german_credit_data.csv\")"
   ]
  },
  {
   "cell_type": "code",
   "execution_count": 3,
   "metadata": {},
   "outputs": [
    {
     "data": {
      "text/html": [
       "<div>\n",
       "<style scoped>\n",
       "    .dataframe tbody tr th:only-of-type {\n",
       "        vertical-align: middle;\n",
       "    }\n",
       "\n",
       "    .dataframe tbody tr th {\n",
       "        vertical-align: top;\n",
       "    }\n",
       "\n",
       "    .dataframe thead th {\n",
       "        text-align: right;\n",
       "    }\n",
       "</style>\n",
       "<table border=\"1\" class=\"dataframe\">\n",
       "  <thead>\n",
       "    <tr style=\"text-align: right;\">\n",
       "      <th></th>\n",
       "      <th>Duration</th>\n",
       "      <th>Checking account</th>\n",
       "      <th>Credit amount</th>\n",
       "      <th>Purpose</th>\n",
       "      <th>Job</th>\n",
       "      <th>Sex</th>\n",
       "      <th>data_source</th>\n",
       "      <th>Saving accounts</th>\n",
       "      <th>Housing</th>\n",
       "      <th>Risk</th>\n",
       "      <th>Age</th>\n",
       "      <th>Unnamed: 0</th>\n",
       "    </tr>\n",
       "  </thead>\n",
       "  <tbody>\n",
       "    <tr>\n",
       "      <th>2101</th>\n",
       "      <td>18.0</td>\n",
       "      <td>NaN</td>\n",
       "      <td>1800</td>\n",
       "      <td>radio/TV</td>\n",
       "      <td>2.0</td>\n",
       "      <td>male</td>\n",
       "      <td>kaggle</td>\n",
       "      <td>little</td>\n",
       "      <td>own</td>\n",
       "      <td>good</td>\n",
       "      <td>24</td>\n",
       "      <td>698.0</td>\n",
       "    </tr>\n",
       "    <tr>\n",
       "      <th>4657</th>\n",
       "      <td>12.0</td>\n",
       "      <td>NaN</td>\n",
       "      <td>976</td>\n",
       "      <td>radio/TV</td>\n",
       "      <td>2.0</td>\n",
       "      <td>male</td>\n",
       "      <td>kaggle</td>\n",
       "      <td>NaN</td>\n",
       "      <td>own</td>\n",
       "      <td>good</td>\n",
       "      <td>35</td>\n",
       "      <td>803.0</td>\n",
       "    </tr>\n",
       "    <tr>\n",
       "      <th>1426</th>\n",
       "      <td>6.0</td>\n",
       "      <td>NaN</td>\n",
       "      <td>1740</td>\n",
       "      <td>radio/TV</td>\n",
       "      <td>2.0</td>\n",
       "      <td>male</td>\n",
       "      <td>kaggle</td>\n",
       "      <td>little</td>\n",
       "      <td>rent</td>\n",
       "      <td>good</td>\n",
       "      <td>30</td>\n",
       "      <td>960.0</td>\n",
       "    </tr>\n",
       "    <tr>\n",
       "      <th>3711</th>\n",
       "      <td>36.0</td>\n",
       "      <td>moderate</td>\n",
       "      <td>2323</td>\n",
       "      <td>radio/TV</td>\n",
       "      <td>2.0</td>\n",
       "      <td>male</td>\n",
       "      <td>kaggle</td>\n",
       "      <td>little</td>\n",
       "      <td>rent</td>\n",
       "      <td>good</td>\n",
       "      <td>24</td>\n",
       "      <td>101.0</td>\n",
       "    </tr>\n",
       "    <tr>\n",
       "      <th>3928</th>\n",
       "      <td>48.0</td>\n",
       "      <td>NaN</td>\n",
       "      <td>6110</td>\n",
       "      <td>education</td>\n",
       "      <td>2.0</td>\n",
       "      <td>male</td>\n",
       "      <td>kaggle</td>\n",
       "      <td>little</td>\n",
       "      <td>free</td>\n",
       "      <td>good</td>\n",
       "      <td>31</td>\n",
       "      <td>36.0</td>\n",
       "    </tr>\n",
       "    <tr>\n",
       "      <th>495</th>\n",
       "      <td>10.0</td>\n",
       "      <td>NaN</td>\n",
       "      <td>1597</td>\n",
       "      <td>car</td>\n",
       "      <td>1.0</td>\n",
       "      <td>male</td>\n",
       "      <td>kaggle</td>\n",
       "      <td>quite rich</td>\n",
       "      <td>NaN</td>\n",
       "      <td>good</td>\n",
       "      <td>40</td>\n",
       "      <td>413.0</td>\n",
       "    </tr>\n",
       "    <tr>\n",
       "      <th>2238</th>\n",
       "      <td>9.0</td>\n",
       "      <td>moderate</td>\n",
       "      <td>1501</td>\n",
       "      <td>education</td>\n",
       "      <td>3.0</td>\n",
       "      <td>female</td>\n",
       "      <td>kaggle</td>\n",
       "      <td>little</td>\n",
       "      <td>own</td>\n",
       "      <td>bad</td>\n",
       "      <td>34</td>\n",
       "      <td>195.0</td>\n",
       "    </tr>\n",
       "    <tr>\n",
       "      <th>87</th>\n",
       "      <td>10.0</td>\n",
       "      <td>NaN</td>\n",
       "      <td>1597</td>\n",
       "      <td>car</td>\n",
       "      <td>1.0</td>\n",
       "      <td>male</td>\n",
       "      <td>kaggle</td>\n",
       "      <td>quite rich</td>\n",
       "      <td>NaN</td>\n",
       "      <td>good</td>\n",
       "      <td>40</td>\n",
       "      <td>413.0</td>\n",
       "    </tr>\n",
       "    <tr>\n",
       "      <th>1754</th>\n",
       "      <td>10.0</td>\n",
       "      <td>NaN</td>\n",
       "      <td>1546</td>\n",
       "      <td>car</td>\n",
       "      <td>1.0</td>\n",
       "      <td>male</td>\n",
       "      <td>kaggle</td>\n",
       "      <td>little</td>\n",
       "      <td>own</td>\n",
       "      <td>good</td>\n",
       "      <td>31</td>\n",
       "      <td>NaN</td>\n",
       "    </tr>\n",
       "    <tr>\n",
       "      <th>1305</th>\n",
       "      <td>36.0</td>\n",
       "      <td>NaN</td>\n",
       "      <td>4686</td>\n",
       "      <td>car</td>\n",
       "      <td>3.0</td>\n",
       "      <td>male</td>\n",
       "      <td>kaggle</td>\n",
       "      <td>little</td>\n",
       "      <td>free</td>\n",
       "      <td>good</td>\n",
       "      <td>32</td>\n",
       "      <td>511.0</td>\n",
       "    </tr>\n",
       "  </tbody>\n",
       "</table>\n",
       "</div>"
      ],
      "text/plain": [
       "      Duration Checking account Credit amount    Purpose  Job     Sex  \\\n",
       "2101      18.0              NaN          1800   radio/TV  2.0    male   \n",
       "4657      12.0              NaN           976   radio/TV  2.0    male   \n",
       "1426       6.0              NaN          1740   radio/TV  2.0    male   \n",
       "3711      36.0         moderate          2323   radio/TV  2.0    male   \n",
       "3928      48.0              NaN          6110  education  2.0    male   \n",
       "495       10.0              NaN          1597        car  1.0    male   \n",
       "2238       9.0         moderate          1501  education  3.0  female   \n",
       "87        10.0              NaN          1597        car  1.0    male   \n",
       "1754      10.0              NaN          1546        car  1.0    male   \n",
       "1305      36.0              NaN          4686        car  3.0    male   \n",
       "\n",
       "     data_source Saving accounts Housing  Risk Age  Unnamed: 0  \n",
       "2101      kaggle          little     own  good  24       698.0  \n",
       "4657      kaggle             NaN     own  good  35       803.0  \n",
       "1426      kaggle          little    rent  good  30       960.0  \n",
       "3711      kaggle          little    rent  good  24       101.0  \n",
       "3928      kaggle          little    free  good  31        36.0  \n",
       "495       kaggle      quite rich     NaN  good  40       413.0  \n",
       "2238      kaggle          little     own   bad  34       195.0  \n",
       "87        kaggle      quite rich     NaN  good  40       413.0  \n",
       "1754      kaggle          little     own  good  31         NaN  \n",
       "1305      kaggle          little    free  good  32       511.0  "
      ]
     },
     "execution_count": 3,
     "metadata": {},
     "output_type": "execute_result"
    }
   ],
   "source": [
    "df.sample(10)"
   ]
  },
  {
   "cell_type": "code",
   "execution_count": 4,
   "metadata": {},
   "outputs": [],
   "source": [
    "nans = [\"NA\", \"N/A\", \"null\", \"NULL\", \"nan\", \"NaN\", \"\", \" \", \"?\"]\n",
    "for col in df.columns:\n",
    "    if len(df[df[col].isin(nans)]) > 0:\n",
    "        print(f\"Weird Nan representation found for column {col}\")"
   ]
  },
  {
   "cell_type": "markdown",
   "metadata": {},
   "source": [
    "No weird representation for Nan values found for columns"
   ]
  },
  {
   "cell_type": "code",
   "execution_count": 5,
   "metadata": {},
   "outputs": [],
   "source": [
    "for col in df.columns:\n",
    "    assert len(df[pd.isna(df[col])]) + len(df[df[col].notna()]) == len(df[col]), (\n",
    "        f\"Nan + not nan assertion invalid for column {col}\"\n",
    "    )"
   ]
  },
  {
   "cell_type": "markdown",
   "metadata": {},
   "source": [
    "We can see that indeed all nan + non nan values match up to the column length."
   ]
  },
  {
   "cell_type": "markdown",
   "metadata": {},
   "source": [
    "I'll get rid of Checking account column, because it contains too much Nans in it."
   ]
  },
  {
   "cell_type": "markdown",
   "metadata": {},
   "source": [
    "Now let's get rid off data_source column, due to it only contains the value kaggle in it. "
   ]
  },
  {
   "cell_type": "code",
   "execution_count": 6,
   "metadata": {},
   "outputs": [],
   "source": [
    "df.drop(columns=[\"data_source\", \"Checking account\"], inplace=True)"
   ]
  },
  {
   "cell_type": "markdown",
   "metadata": {},
   "source": [
    "Now, let's fix the dtypes\n",
    "|Column | Description | Type |\n",
    "|-|-|-|\n",
    "| Duration | Credit's estimated duration in Months | Numerical continuous |\n",
    "| Credit amount | Required credit ammount | Numerical continuous |\n",
    "| Purpose | What is the credit for | Categorical nominal |\n",
    "| Job | 0 = unskilled and non-resident, 1 = unskilled and resident, 2 = skilled, 3 = highly skilled | Categorical ordinal |\n",
    "| Sex | | Categorical nominal |\n",
    "| Saving accounts | Level of savings of the applicant (e.g., little, quite rich, rich) | Categorical ordinal |\n",
    "| Housing | Type of housing situation (e.g., rent, own, free) | Categorical nominal |\n",
    "| Risk | bad = 0, 1 = good | Categorical binary |\n",
    "| Age | Age of the credit requester | Numerical continuous |\n"
   ]
  },
  {
   "cell_type": "markdown",
   "metadata": {},
   "source": [
    "First, let's handle categorical types"
   ]
  },
  {
   "cell_type": "code",
   "execution_count": 7,
   "metadata": {},
   "outputs": [],
   "source": [
    "categorical_cols = {\n",
    "    \"Purpose\": [],\n",
    "    \"Job\": [0, 1, 2, 3],\n",
    "    \"Sex\": [],\n",
    "    \"Saving accounts\": [\"little\", \"quite rich\", \"rich\"],\n",
    "    \"Housing\": [],\n",
    "    \"Risk\": [\"good\", \"bad\"],\n",
    "}\n",
    "\n",
    "df[list(categorical_cols.keys())] = df[list(categorical_cols.keys())].astype(\"category\")\n",
    "\n",
    "for col, categories in categorical_cols.items():\n",
    "    if len(categories) > 0:\n",
    "        df[col] = pd.Categorical(df[col], categories=categories, ordered=True)"
   ]
  },
  {
   "cell_type": "markdown",
   "metadata": {},
   "source": [
    "Now, let's handle numerical columns"
   ]
  },
  {
   "cell_type": "code",
   "execution_count": null,
   "metadata": {},
   "outputs": [
    {
     "name": "stdout",
     "output_type": "stream",
     "text": [
      "Invalid values found for column Duration: [nan]\n",
      "Invalid values found for column Credit amount: [nan 'dfas' 'qwretryet' 'ttqweyuet']\n",
      "Invalid values found for column Age: [nan 'hgd']\n"
     ]
    }
   ],
   "source": [
    "numeric_cols = {\n",
    "    \"Duration\": \"Int64\",  # has to be base 64 so it can be nullable\n",
    "    \"Credit amount\": \"Int64\",\n",
    "    \"Age\": \"Int64\",\n",
    "}\n",
    "\n",
    "checking_df = df.copy()\n",
    "for col in numeric_cols:\n",
    "    checking_df[col] = checking_df[col].astype(\n",
    "        str\n",
    "    )  # convert to string temporarily for checking\n",
    "    mask = ~checking_df[col].str.match(\n",
    "        r\"^-?\\d+\\.?\\d*$\", na=True\n",
    "    )  # detecting weird values inside numerical columns\n",
    "    print(f\"Invalid values found for column {col}:\", df[mask][col].unique())\n",
    "    df.loc[mask, col] = np.nan\n",
    "\n",
    "df = df.astype({col: num_type for col, num_type in numeric_cols.items()})"
   ]
  },
  {
   "cell_type": "code",
   "execution_count": 9,
   "metadata": {},
   "outputs": [
    {
     "name": "stdout",
     "output_type": "stream",
     "text": [
      "<class 'pandas.core.frame.DataFrame'>\n",
      "RangeIndex: 4846 entries, 0 to 4845\n",
      "Data columns (total 10 columns):\n",
      " #   Column           Non-Null Count  Dtype   \n",
      "---  ------           --------------  -----   \n",
      " 0   Duration         4699 non-null   Int64   \n",
      " 1   Credit amount    4568 non-null   Int64   \n",
      " 2   Purpose          4686 non-null   category\n",
      " 3   Job              4635 non-null   category\n",
      " 4   Sex              4617 non-null   category\n",
      " 5   Saving accounts  3306 non-null   category\n",
      " 6   Housing          4622 non-null   category\n",
      " 7   Risk             4705 non-null   category\n",
      " 8   Age              4703 non-null   Int64   \n",
      " 9   Unnamed: 0       4685 non-null   float64 \n",
      "dtypes: Int64(3), category(6), float64(1)\n",
      "memory usage: 195.3 KB\n"
     ]
    }
   ],
   "source": [
    "df.info()"
   ]
  },
  {
   "cell_type": "code",
   "execution_count": 10,
   "metadata": {},
   "outputs": [],
   "source": [
    "schema = pa.Table.from_pandas(df).schema"
   ]
  },
  {
   "cell_type": "code",
   "execution_count": null,
   "metadata": {},
   "outputs": [],
   "source": [
    "df.to_parquet(\n",
    "    r\"..\\data\\types_fixed_german_credit_data.parquet\", index=False, schema=schema\n",
    ")"
   ]
  }
 ],
 "metadata": {
  "kernelspec": {
   "display_name": ".venv",
   "language": "python",
   "name": "python3"
  },
  "language_info": {
   "codemirror_mode": {
    "name": "ipython",
    "version": 3
   },
   "file_extension": ".py",
   "mimetype": "text/x-python",
   "name": "python",
   "nbconvert_exporter": "python",
   "pygments_lexer": "ipython3",
   "version": "3.11.9"
  }
 },
 "nbformat": 4,
 "nbformat_minor": 2
}
